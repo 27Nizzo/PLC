{
  "cells": [
    {
      "cell_type": "markdown",
      "metadata": {
        "id": "oVaAea-wCM6H"
      },
      "source": [
        "# Ficha de Expressões Regulares 1\n",
        "\n",
        "Autor Sofia Santos, ano letivo 24/25 (versão PRH)"
      ]
    },
    {
      "cell_type": "markdown",
      "metadata": {
        "id": "gk5jnHXt9t4y"
      },
      "source": [
        "### Conceitos básicos de expressões regulares\n",
        "\n",
        "- `a` - corresponde a uma ocorrência do caracter `a`.\n",
        "- `a?` - corresponde a 0 ou 1 ocorrências do caracter `a`.\n",
        "- `a+` - corresponde a 1 ou mais ocorrências do caracter `a`.\n",
        "- `a*` - corresponde a 0 ou mais ocorrências do caracter `a`.\n",
        "- `[abc]` - corresponde a uma ocorrência de um dos caracteres `a`, `b` ou `c`.\n",
        "- `[a-z]` - corresponde a uma ocorrência de um caracter entre `a` e `z`.\n",
        "- `^` - corresponde ao início da string.\n",
        "- `$` - corresponde ao fim da string.\n",
        "- `[^abc]` - corresponde a uma ocorrência de qualquer caracter que não seja `a`, `b` ou `c`.\n",
        "\n",
        "Podemos usar o operador de união para unir várias expressões regulares. Por exemplo: `a|bbb|[^a-z]`, que corresponde a uma das várias (neste caso, 3) expressões regulares que fazem parte da união.\n",
        "\n",
        "Podemos simplificar expressões regulares como `bbb` para `b{3}`, ou seja, 3 ocorrências consecutivas do caracter `b`, neste caso. Outras opções incluem `b{3,}` para 3 ou mais ocorrências ou `b{3,6}` para entre 3 a 6 ocorrências, por exemplo.\n",
        "\n",
        "Para formar grupos de expressões regulares, usamos parênteses. Por exemplo: `((abc)*|[0-9]+)?`. Os operadores após um grupo atuam sobre o grupo.\n",
        "\n",
        "Podemos ainda aplicar modificadores a grupos. Por exemplo, `(?i:teste)` corresponde à expressão \"teste\", escrita com qualquer combinação de maiúsculas e minúsculas (e.g., \"TESTE\", \"tEsTe\", \"TEste\", etc.)."
      ]
    },
    {
      "cell_type": "markdown",
      "metadata": {
        "id": "yDRt0yOgJ-TW"
      },
      "source": [
        "## Exercício 1"
      ]
    },
    {
      "cell_type": "markdown",
      "metadata": {
        "id": "gI05knhniDCr"
      },
      "source": [
        "### Alínea 1.1\n",
        "\n",
        "Dada uma linha de texto, define um programa que determina se a palavra \"hello\" aparece no início da linha.\n",
        "\n",
        "Conceitos importantes para este exercício:\n",
        "\n",
        "- `re.match(pattern, string[, flags])` - analisa a `string` e tenta encontrar uma correspondência para a expressão regular `pattern` a partir do início da string. Devolve `None` se não encontrar nenhuma correspondência.\n",
        "- `r\"\"` - string correspondente a uma expressão regular."
      ]
    },
    {
      "cell_type": "code",
      "execution_count": null,
      "metadata": {
        "colab": {
          "base_uri": "https://localhost:8080/"
        },
        "id": "ufl-7TGph9WH",
        "outputId": "5099a6ae-51f3-4109-f3c9-02b7e118c220"
      },
      "outputs": [
        {
          "name": "stdout",
          "output_type": "stream",
          "text": [
            "<re.Match object; span=(0, 5), match='hello'>\n",
            "hello\n",
            "Não encontrei nada!\n",
            "Não encontrei nada!\n"
          ]
        }
      ],
      "source": [
        "from re import *\n",
        "\n",
        "line1 = \"hello world\"\n",
        "line2 = \"goodbye world\"\n",
        "line3 = \"hi, hello there\"\n",
        "\n",
        "res1 = match(r'(?i:hello)', line1)\n",
        "print(res1)\n",
        "print(res1.group(0))\n",
        "\n",
        "res2 = match(r'(?i:hello)', line2)\n",
        "if res2:\n",
        "  print(res2)\n",
        "else:\n",
        "  print(\"Não encontrei nada!\")\n",
        "\n",
        "res3 = match(r'(?i:hello)', line3)\n",
        "if res3:\n",
        "  print(res3.group(0))\n",
        "else:\n",
        "  print(\"Não encontrei nada!\")\n"
      ]
    },
    {
      "cell_type": "markdown",
      "metadata": {
        "id": "gzgOACqiJ7VN"
      },
      "source": [
        "### Alínea 1.2\n",
        "\n",
        "Dada uma linha de texto, define um programa que determina se a palavra \"hello\" aparece em qualquer posição da linha.\n",
        "\n",
        "Conceitos importantes para este exercício:\n",
        "\n",
        "- `re.search(pattern, string[, flags])` - analisa a `string` e tenta encontrar uma correspondência para a expressão regular `pattern` em qualquer posição da string. Devolve `None` se não encontrar nenhuma correspondência."
      ]
    },
    {
      "cell_type": "code",
      "execution_count": null,
      "metadata": {
        "colab": {
          "base_uri": "https://localhost:8080/"
        },
        "id": "TM-qMl-yJ7VS",
        "outputId": "cb853419-e5b8-40cc-a558-b26934205e5a"
      },
      "outputs": [
        {
          "name": "stdout",
          "output_type": "stream",
          "text": [
            "HeLLo\n"
          ]
        }
      ],
      "source": [
        "import re\n",
        "line1 = \"hello world\"\n",
        "line2 = \"goodbye world\"\n",
        "line3 = \"hi, hello there\"\n",
        "line4 = \"HeLLo, Hello, HELLO, hello there! hello, girls!! hello, guys!!!\"\n",
        "line5 = \"\"\n",
        "\n",
        "#res = re.search(r'(?i:hello)', line1)\n",
        "#res = re.search(r'(?i:hello)', line2)\n",
        "#res = re.search(r'(?i:hello)', line3)\n",
        "res = re.search(r'(?i:hello)', line4)\n",
        "\n",
        "#res = re.search(r'[a-zA-Z]+', line5)\n",
        "\n",
        "if res:\n",
        "  print(res.group(0))\n",
        "else:\n",
        "  print(\"Não encontrei nada!\")\n",
        "\n",
        "\n",
        "\n"
      ]
    },
    {
      "cell_type": "markdown",
      "metadata": {
        "id": "6ZE7klswOy90"
      },
      "source": [
        "### Alínea 1.3\n",
        "\n",
        "Dada uma linha de texto, define um programa que pesquisa por todas as ocorrências da palavra \"hello\" dentro da linha, admitindo que a palavra seja escrita com maiúsculas ou minúsculas.\n",
        "\n",
        "Conceitos importantes para este exercício:\n",
        "\n",
        "- `re.findall(pattern, string[, flags])` - encontra todas as correspondências que não se sobreponham da expressão regular `pattern` na `string`. Devolve uma lista."
      ]
    },
    {
      "cell_type": "code",
      "execution_count": null,
      "metadata": {
        "colab": {
          "base_uri": "https://localhost:8080/"
        },
        "id": "aHB_l7g5OzNY",
        "outputId": "38d3d474-0d8f-442c-bb25-928874c33556"
      },
      "outputs": [
        {
          "name": "stdout",
          "output_type": "stream",
          "text": [
            ">> ola 12 e depois 123 e enfim 45 acabou 999\n",
            "Foram encontradas 4 ocorrências\n",
            "12\n",
            "123\n",
            "45\n",
            "999\n",
            ">> \n"
          ]
        }
      ],
      "source": [
        "from re import *\n",
        "line = \"Hello there! Uh, hi, hello, it's me... Heyyy, hello? HELLO!\"\n",
        "\n",
        "#res = findall(r'(?i:hello)', line)\n",
        "testInput = input('>> ')\n",
        "while testInput != '':\n",
        "  res = findall(r'\\d+', testInput)\n",
        "  if res:\n",
        "    print('Foram encontradas', len(res), 'ocorrências')\n",
        "    for i in res:\n",
        "      print(i)\n",
        "  else:\n",
        "    print(\"Nenhuma ocorrência\")\n",
        "  testInput = input('>> ')\n"
      ]
    },
    {
      "cell_type": "markdown",
      "metadata": {
        "id": "TSwUj26OPRmP"
      },
      "source": [
        "### Alínea 1.4\n",
        "\n",
        "Dada uma linha de texto, define um programa que pesquisa por todas as ocorrências da palavra \"hello\" (**Maiúsculas ou Minúsculas**\n",
        ") dentro da linha, substituindo cada uma por \"\\*YEP\\*\".\n",
        "\n",
        "Conceitos importantes para este exercício:\n",
        "\n",
        "- `re.sub(pattern, replacement, string, count = 0)` - substitui todas as correspondências da expressão regular `pattern` na `string` por `replacement`. `replacement` pode ser uma string, uma expressão regular ou uma função que recebe uma correspondência e devolve uma string. O parâmetro opcional `count` determina o limite de substituições (por omissão é 0, ou seja, não há limite)."
      ]
    },
    {
      "cell_type": "code",
      "execution_count": null,
      "metadata": {
        "colab": {
          "base_uri": "https://localhost:8080/"
        },
        "id": "SXLK2rhMPf11",
        "outputId": "3c0f3f59-d60b-4b78-baec-e131407c1621"
      },
      "outputs": [
        {
          "name": "stdout",
          "output_type": "stream",
          "text": [
            "*YEP* there! Uh, hi, *YEP*, it's me... Heyyy, *YEP*? *YEP*!\n",
            "O meu telemóvel é * ou *5 ou *. O dele é *. O do zé é *\n",
            "O meu telemóvel é * ou *5 ou *. O dele é *. O do zé é 150305152\n",
            "O meu telemóvel é 954324028 ou *5 ou *. O dele é 203604468. O do zé é 150305152\n",
            "Hello #### #### #### hello, it's me... Heyyy, hello? HELLO!\n"
          ]
        }
      ],
      "source": [
        "import re\n",
        "line = \"Hello there! Uh, hi, hello, it's me... Heyyy, hello? HELLO!\"\n",
        "line2 = \"O meu telemóvel é 954324028 ou 9684122875 ou 931212411. O dele é 203604468. O do zé é 150305152\"\n",
        "# ...\n",
        "\n",
        "def reF(pattern, replacement, string):\n",
        "  res = re.sub(pattern, replacement, string)\n",
        "  return res\n",
        "\n",
        "print(reF(r\"(?i:hello)\",\"*YEP*\", line))\n",
        "print(reF(r\"[0-9]{9}\", \"*\", line2))\n",
        "print(reF(r\"[29][0-9]{8}\", \"*\", line2))\n",
        "print(reF(r\"(2[1-9][0-9]{7})|(9[1236][0-9]{7})\", \"++\", line2))\n",
        "\n",
        "print(re.sub(r\"(?i:[a-zA-Z]+[,?!])\",\"####\", line, 3))\n"
      ]
    },
    {
      "cell_type": "markdown",
      "metadata": {
        "id": "MrgsEzJCPgbO"
      },
      "source": [
        "### Alínea 1.5\n",
        "\n",
        "Dada uma linha de texto, define um programa que pesquisa por todas as ocorrências do caracter vírgula, separando cada parte da linha por esse caracter. O Programa deve ainda indicar quantas partes resultaram da separação.\n",
        "\n",
        "Conceitos importantes para este exercício:\n",
        "\n",
        "- `re.split(pattern, string, maxsplit = 0)` - divide a `string` com base nas correspondências da expressão regular `pattern`. O parâmetro opcional `maxsplit` pode ser usado para definir um limite de divisões (por omissão é 0, que corresponde a qualquer números de divisões)."
      ]
    },
    {
      "cell_type": "code",
      "execution_count": null,
      "metadata": {
        "colab": {
          "base_uri": "https://localhost:8080/"
        },
        "id": "vrwiid6XPgvg",
        "outputId": "ff3d84f2-1d24-45f4-a8d2-38614ab0cfd0"
      },
      "outputs": [
        {
          "name": "stdout",
          "output_type": "stream",
          "text": [
            "['bananas', ' 1 laranjas', ' 2 maçãs', ' 3 uvas', ' 4melancias', ' 555cerejas', ' 6 kiwis', ' etc.']\n",
            "<class 'str'>\n",
            "<class 'list'>\n",
            "Após o split, resultaram  8  cálulas\n"
          ]
        }
      ],
      "source": [
        "import re\n",
        "line = \"bananas, 1 laranjas, 2 maçãs, 3 uvas, 4melancias, 555cerejas, 6 kiwis, etc.\"\n",
        "\n",
        "res = re.split(r',', line)\n",
        "#res = re.split(r',', line, 3)\n",
        "##res = re.split(r'\\d+',line,3)\n",
        "if (res):\n",
        "  print(res)\n",
        "  print(type(line))\n",
        "  print(type(res))\n",
        "  n= len(res)\n",
        "  print(\"Após o split, resultaram \", n, \" cálulas\")\n",
        "#"
      ]
    },
    {
      "cell_type": "markdown",
      "metadata": {
        "id": "6QP0erT4iSzE"
      },
      "source": [
        "## Exercício 2\n",
        "\n",
        "Define a função `palavra_magica` que recebe uma frase e determina se a mesma termina com a expressão \"por favor\", seguida de um sinal válido de pontuação."
      ]
    },
    {
      "cell_type": "code",
      "execution_count": null,
      "metadata": {
        "colab": {
          "base_uri": "https://localhost:8080/"
        },
        "id": "MhCC49z7jU7n",
        "outputId": "d06c675d-79dc-4585-8d1b-046be52f6f2c"
      },
      "outputs": [
        {
          "name": "stdout",
          "output_type": "stream",
          "text": [
            "Inválido\n",
            "Válido\n",
            "Inválido\n"
          ]
        }
      ],
      "source": [
        "import re\n",
        "\n",
        "def palavra_magica(frase):\n",
        " res = re.search(r\"por favor[?!.]$\", frase)\n",
        " return \"Válido\" if res else \"Inválido\"\n",
        "\n",
        "\n",
        "\n",
        "print(palavra_magica(\"Posso ir à casa de banho, por  favor? miguel\"))\n",
        "print(palavra_magica(\"Posso ir à casa de banho, por favor.\"))\n",
        "print(palavra_magica(\"Preciso de um favor.\"))"
      ]
    },
    {
      "cell_type": "markdown",
      "metadata": {
        "id": "L71wvPCujpBD"
      },
      "source": [
        "## Exercício 3\n",
        "\n",
        "Define a função `narcissismo` que calcula quantas vezes a palavra \"eu\" aparece numa string."
      ]
    },
    {
      "cell_type": "code",
      "execution_count": null,
      "metadata": {
        "colab": {
          "base_uri": "https://localhost:8080/"
        },
        "id": "0HxFCow5nOj8",
        "outputId": "769fc84b-1720-4521-f842-66141370f34d"
      },
      "outputs": [
        {
          "name": "stdout",
          "output_type": "stream",
          "text": [
            "7\n"
          ]
        }
      ],
      "source": [
        "from re import *\n",
        "\n",
        "texto = \"\"\"EU, dignissimo Eustáquio, disse: Eu não sei se deu, mas eu quero continuar a ser eu, Eufrásia.\n",
        "Por eutro lado, eu ser eu é uma parte importante de qeum EU sou, mas não sou Deus.\"\"\"\n",
        "\n",
        "def narcissismo(linha):\n",
        "  y = re.findall(r\"(^(?i:eu)|\\s(?i:eu))[\\s.,!?;:]\", linha)\n",
        "  return len(y)\n",
        "\n",
        "print(narcissismo( texto ))\n"
      ]
    },
    {
      "cell_type": "markdown",
      "metadata": {
        "id": "EKETfRaOolO4"
      },
      "source": [
        "## Exercício 4\n",
        "\n",
        "Define a função `troca_de_curso` que substitui todas as ocorrências de \"LEI\" numa linha pelo nome do curso dado à função."
      ]
    },
    {
      "cell_type": "code",
      "execution_count": null,
      "metadata": {
        "colab": {
          "base_uri": "https://localhost:8080/"
        },
        "id": "8ZVPMxfZpRrx",
        "outputId": "68f0cbc5-9e5a-4b3e-e83c-3f9226c52fab"
      },
      "outputs": [
        {
          "name": "stdout",
          "output_type": "stream",
          "text": [
            "Novo curso? LCC\n",
            "LCC é o melhor curso! Adoro LCC! Gostar de LCC devia ser uma lei.\n"
          ]
        }
      ],
      "source": [
        "import re\n",
        "\n",
        "def troca_de_curso(linha, novo_curso):\n",
        "  return re.sub(r'LEI', novo_curso, linha)\n",
        "\n",
        "fonte = \"LEI é o melhor curso! Adoro LEI! Gostar de LEI devia ser uma lei.\"\n",
        "curso = input(\"Novo curso? \")\n",
        "print(troca_de_curso(fonte, curso))\n"
      ]
    },
    {
      "cell_type": "markdown",
      "metadata": {
        "id": "GZKMkTKcp886"
      },
      "source": [
        "## Exercício 5\n",
        "\n",
        "Define a função `soma_string` que recebe uma string com vários números separados por uma vírgula (e.g., \"1,2,3,4,5\") e devolve a soma destes números."
      ]
    },
    {
      "cell_type": "code",
      "execution_count": null,
      "metadata": {
        "colab": {
          "base_uri": "https://localhost:8080/"
        },
        "id": "ExqmZwj_rzuR",
        "outputId": "279ad8b7-f9b3-467d-92cb-aecfdab72583"
      },
      "outputs": [
        {
          "name": "stdout",
          "output_type": "stream",
          "text": [
            "10\n"
          ]
        }
      ],
      "source": [
        "import re\n",
        "\n",
        "def soma_string(linha):\n",
        "  soma = 0\n",
        "  nums = re.split(r',', linha)\n",
        "  for n in nums:\n",
        "    soma += int(n)\n",
        "  return  soma\n",
        "\n",
        "print(soma_string(\"4,10,-6,1,-9,-5, 5, 10\"))\n"
      ]
    },
    {
      "cell_type": "markdown",
      "metadata": {
        "id": "n49iafoNzw-3"
      },
      "source": [
        "## Exercício 6\n",
        "\n",
        "Define a função `pronomes` que encontra e devolve todos os pronomes pessoais presentes numa frase, i.e., \"eu\", \"tu\", \"ele\", \"ela\", etc., com atenção para letras maiúsculas ou minúsculas.\n",
        "\n",
        "Calcule e mostre também o conjunto dos pronomes encontrados (note que \"eu\" e \"EU\" são o mesmo elemento)."
      ]
    },
    {
      "cell_type": "code",
      "execution_count": null,
      "metadata": {
        "colab": {
          "base_uri": "https://localhost:8080/"
        },
        "id": "RnuCrz2H0DWq",
        "outputId": "1a5a576c-6523-477b-aedd-d2ded6b9455c"
      },
      "outputs": [
        {
          "name": "stdout",
          "output_type": "stream",
          "text": [
            "lista de todos os pronomes encontrados:  ['Eu', 'Eu', 'Tu', 'ele', 'ele', 'eu', 'nós', 'vós']\n",
            "2 lista de todos os pronomes encontrados:  ['Eu', 'Eu', 'Tu', 'ele', 'ele', 'eu', 'nós', 'vós']\n",
            "pronomes encontrados, sem repetições:  {'vós', 'nós', 'eu', 'tu', 'ele'}\n"
          ]
        }
      ],
      "source": [
        "from re import *\n",
        "\n",
        "frase = \"\"\"Ola eu vou de certeza. Tu e ele, vêm?\n",
        "        Eu não espero por vós.\n",
        "        Eu estou com pressa, ele tem de vir, nós vamos andando!\"\"\"\n",
        "\n",
        "pronomes = r'(?i:eu|tu|ele|nós|vós|eles)'\n",
        "\n",
        "def tolower(lista):\n",
        "  res = []\n",
        "  for palavra in lista:\n",
        "    res += [palavra.lower()]\n",
        "  return res\n",
        "\n",
        "def encPronomes(f):\n",
        "  res = findall( pronomes, f )\n",
        "  return res\n",
        "\n",
        "pslist = encPronomes( frase )\n",
        "l = sorted(pslist)\n",
        "pslist.sort()\n",
        "print('lista de todos os pronomes encontrados: ', l )\n",
        "print('2 lista de todos os pronomes encontrados: ', pslist )\n",
        "\n",
        "ps = set(tolower(pslist))\n",
        "#ps = sorted(ps)\n",
        "print('pronomes encontrados, sem repetições: ', ps )\n",
        "\n",
        "\n",
        "\n"
      ]
    },
    {
      "cell_type": "code",
      "execution_count": null,
      "metadata": {
        "id": "LlSNxK1nYsc0"
      },
      "outputs": [],
      "source": []
    },
    {
      "cell_type": "markdown",
      "metadata": {
        "id": "BHMk88OQ0XFY"
      },
      "source": [
        "## Exercício 7\n",
        "\n",
        "Define a função `variavel_valida` que recebe uma string e determina se a mesma é um nome válido para uma variável, ou seja, se começa por uma letra e apenas contém letras, números ou *underscores*."
      ]
    },
    {
      "cell_type": "code",
      "execution_count": 24,
      "metadata": {
        "colab": {
          "base_uri": "https://localhost:8080/"
        },
        "id": "YTQW91Ws1WLx",
        "outputId": "038f8bac-10a1-4bbd-8b56-d58d02d91912"
      },
      "outputs": [
        {
          "name": "stdout",
          "output_type": "stream",
          "text": [
            "Válida\n",
            "Inválida\n",
            "Inválida\n",
            "Inválida\n",
            "Válida\n",
            "Válida\n",
            "Inválida\n",
            "Válida\n",
            "Inválida\n",
            "Válida\n"
          ]
        }
      ],
      "source": [
        "import re\n",
        "\n",
        "id0 = \"Turma\"\n",
        "id1 = \"_tot_\"\n",
        "id2 = \"_tot_1.turma-2\"\n",
        "id3 = \"tot_1.turma-2\"\n",
        "id4 = \"tot_1_turma_2\"\n",
        "id5 = \"tot1turma2\"\n",
        "id6 = \"palavra/sapo\"\n",
        "id7 = \"palavra_sapo\"\n",
        "id8 = \"çã\"\n",
        "id9 = \"maçã\"\n",
        "XXXX = [id0] + [id1] + [id2] + [id3] + [id4] + [id5] + [id6] + [id7] + [id8] + [id9]\n",
        "\n",
        "def variavel_valida(pal):\n",
        "   # return (\"Válida\" if re.match('[a-zA-Z]\\w*$' , pal) else \"Inválida\")\n",
        "\n",
        "   if(re.match('[a-zA-Z]\\w*$', pal)):\n",
        "    return(\"Válida\")\n",
        "   else:\n",
        "    return(\"Inválida\")\n",
        "\n",
        "for id in XXXX :\n",
        "  print(variavel_valida(id))"
      ]
    },
    {
      "cell_type": "code",
      "execution_count": null,
      "metadata": {
        "id": "h4DvOgXwRwiB"
      },
      "outputs": [],
      "source": []
    },
    {
      "cell_type": "markdown",
      "metadata": {
        "id": "ZRWbgkMM5qzx"
      },
      "source": [
        "## Exercício 8\n",
        "\n",
        "Define a função `inteiros` que devolve todos os números inteiros (ou reais) presentes numa string. Um número  pode conter um ou mais dígitos, eventualmente com um ponto ou virgula, e pode ser positivo ou negativo."
      ]
    },
    {
      "cell_type": "code",
      "execution_count": 2,
      "metadata": {
        "id": "jsmiEi6gA7vh"
      },
      "outputs": [
        {
          "name": "stdout",
          "output_type": "stream",
          "text": [
            "['1.23', '2,22', '-3', '-54', '567', '120']\n"
          ]
        }
      ],
      "source": [
        "import re\n",
        "\n",
        "def numeros(frase): \n",
        "    return re.findall(r'-?\\d+(?:[\\.,]\\d+)?', frase)\n",
        "\n",
        "frase = \"1.23dsds2,22-3-54ola+567.a120\"\n",
        "\n",
        "print(numeros(frase))"
      ]
    },
    {
      "cell_type": "markdown",
      "metadata": {
        "id": "QhpGhtBT7aD3"
      },
      "source": [
        "\n",
        "## Exercício 9\n",
        "\n",
        "Define a função `underscores` que substitui todos os espaços numa string por *underscores*. Se aparecerem vários espaços seguidos, devem ser substituídos por apenas um *underscore*."
      ]
    },
    {
      "cell_type": "code",
      "execution_count": 4,
      "metadata": {
        "colab": {
          "base_uri": "https://localhost:8080/"
        },
        "id": "1YTIkZT-6Ase",
        "outputId": "b53af5ef-b68c-41bc-fda2-5fbb32b3b887"
      },
      "outputs": [
        {
          "name": "stdout",
          "output_type": "stream",
          "text": [
            "Aqui_temos_um_belo_exemplo_de_frase_completamente_maluca_!\n"
          ]
        }
      ],
      "source": [
        "import re\n",
        "\n",
        "def underscores( frase ):\n",
        "  return re.sub(r' +' , r'_', frase)\n",
        "\n",
        "\n",
        "print(underscores(\"Aqui temos   um belo   exemplo   de frase    completamente  maluca  !\"))\n"
      ]
    },
    {
      "cell_type": "markdown",
      "metadata": {
        "id": "xcUrRlIy8uof"
      },
      "source": [
        "## Exercício 10\n",
        "\n",
        "Escreva um programa que recebe uma lista de códigos postais válidos e divide-os com base no hífen. O programa deve imprimir uma lista de pares."
      ]
    },
    {
      "cell_type": "code",
      "execution_count": 6,
      "metadata": {
        "colab": {
          "base_uri": "https://localhost:8080/"
        },
        "id": "6xj01Oy09ncO",
        "outputId": "4ed9059c-5efb-491e-89fa-ae316849143d"
      },
      "outputs": [
        {
          "name": "stdout",
          "output_type": "stream",
          "text": [
            "[('4700', '000'), ('1234', '567'), ('8541', '543'), ('4123', '974'), ('9481', '025')]\n"
          ]
        }
      ],
      "source": [
        "from re import *\n",
        "\n",
        "lista = [\n",
        "    \"4700-000\",\n",
        "    \"1234-567\",\n",
        "    \"8541-543\",\n",
        "    \"4123-974\",\n",
        "    \"9481-025\"\n",
        "]\n",
        "\n",
        "pares=[]\n",
        "\n",
        "for cod in lista:\n",
        "  s = split( r'-', cod)\n",
        "  pares += [(s[0],s[1])]\n",
        "\n",
        "\n",
        "print(pares)\n",
        "\n"
      ]
    }
  ],
  "metadata": {
    "colab": {
      "provenance": []
    },
    "kernelspec": {
      "display_name": "logica",
      "language": "python",
      "name": "python3"
    },
    "language_info": {
      "codemirror_mode": {
        "name": "ipython",
        "version": 3
      },
      "file_extension": ".py",
      "mimetype": "text/x-python",
      "name": "python",
      "nbconvert_exporter": "python",
      "pygments_lexer": "ipython3",
      "version": "3.10.14"
    }
  },
  "nbformat": 4,
  "nbformat_minor": 0
}
